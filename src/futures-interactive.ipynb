{
    "cells": [
        {
            "cell_type": "code",
            "execution_count": 1,
            "source": [
                "import pandas as pd\n",
                "\n",
                "import ipywidgets as widgets\n",
                "from ipywidgets import interact, interact_manual\n",
                "\n",
                "def createGraph(m):\n",
                "  leverage = int(100 / m)\n",
                "  print('LEVERADGE x' + str(leverage) + ', LIQUIDATION ', str(m)+ '%')\n",
                "\n",
                "  table = []\n",
                "  table_heatmap = []\n",
                "  percentages = [0.25, 0.5, 0.75, 1, 1.25, 1.5, 1.75, 2, 3, 4, 5, 6, 7, 8, 9, 10, 20, 30, 40, 50]\n",
                "\n",
                "  for i in range(1, 21):\n",
                "    position = i * 10\n",
                "    margin = position * leverage\n",
                "    row = [position, margin]\n",
                "    row_heatmap = []\n",
                "\n",
                "    for j in percentages:\n",
                "      row.append(margin * j/100)\n",
                "      row_heatmap.append(margin * j/100)\n",
                "\n",
                "    table.append(row)\n",
                "    table_heatmap.append(row_heatmap)\n",
                "\n",
                "  cols = ['MARGIN', 'POSITION'] + [str(i) for i in percentages]\n",
                "  df = pd.DataFrame(table, columns = cols)\n",
                "  heading_properties = [('font-size', '16px'),\n",
                "                        ('background-color', 'black'),\n",
                "                        ('color', 'white'),\n",
                "                        ('font-family', 'Monaco')]\n",
                "  cell_properties = [('font-size', '16px'),\n",
                "                    ('font-family', 'Monaco')]\n",
                "  row_hover = [('background-color', 'blue'),\n",
                "                ('color', 'white')]\n",
                "  cell_hover = [('background-color', 'magenta'),\n",
                "                ('color', 'white')]\n",
                "  dfstyle = [dict(selector=\"th\", props=heading_properties),\n",
                "            dict(selector=\"td\", props=cell_properties),\n",
                "            dict(selector=\"tr:hover\", props=row_hover),\n",
                "            dict(selector=\"td:hover\", props=cell_hover)]\n",
                "\n",
                "  cell_hover = {  # for row hover use <tr> instead of <td>\n",
                "    'selector': 'td:hover',\n",
                "    'props': [('background-color', 'blue'), ('color', 'white'), ('font-family', 'Monaco')]\n",
                "  }\n",
                "\n",
                "  s = df.style \\\n",
                "    .set_table_styles(dfstyle)\\\n",
                "    .format(precision=1, na_rep='MISSING', thousands=\",\") \\\n",
                "    .set_properties(**{'background-color': 'black', 'color': 'white'}, subset=['MARGIN', 'POSITION']) \\\n",
                "    .hide_index()\n",
                "  \n",
                "  display(s)\n",
                "\n",
                "def recalculateMargin(x):\n",
                "  createGraph(x)\n",
                "\n",
                "def recalculatePosition(x):\n",
                "  print(x, 'position')\n",
                "  # createGraph(x)\n",
                "\n",
                "@widgets.interact\n",
                "def show_articles_more_than(x=widgets.IntSlider(min=1, max=50, value=5, step=1, description=\"LIQ %\")):\n",
                "  recalculateMargin(x)\n",
                "\n",
                "# @widgets.interact\n",
                "# def show_articles_more_than(x=widgets.IntSlider(min=10, max=300, value=100, step=10, description=\"Position\")):\n",
                "#   recalculatePosition(x)\n"
            ],
            "outputs": [
                {
                    "output_type": "display_data",
                    "data": {
                        "text/plain": [
                            "interactive(children=(IntSlider(value=5, description='LIQ %', max=50, min=1), Output()), _dom_classes=('widget…"
                        ],
                        "application/vnd.jupyter.widget-view+json": {
                            "version_major": 2,
                            "version_minor": 0,
                            "model_id": "0587856c7d2b41f29e3a31e18fc5dcf4"
                        }
                    },
                    "metadata": {}
                }
            ],
            "metadata": {}
        }
    ],
    "metadata": {
        "orig_nbformat": 4,
        "language_info": {
            "name": "python",
            "version": "3.9.6",
            "mimetype": "text/x-python",
            "codemirror_mode": {
                "name": "ipython",
                "version": 3
            },
            "pygments_lexer": "ipython3",
            "nbconvert_exporter": "python",
            "file_extension": ".py"
        },
        "kernelspec": {
            "name": "python3",
            "display_name": "Python 3.9.6 64-bit ('pyenv396': venv)"
        },
        "interpreter": {
            "hash": "440e79905b4ff5dfd84f15e41b7e5104b5a9108e1caf78ee983fe6fc6043c119"
        }
    },
    "nbformat": 4,
    "nbformat_minor": 2
}